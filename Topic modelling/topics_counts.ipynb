{
 "cells": [
  {
   "cell_type": "code",
   "execution_count": 16,
   "id": "ddaf8a0b-8795-4778-9d8c-e3703e676cd2",
   "metadata": {},
   "outputs": [
    {
     "name": "stdout",
     "output_type": "stream",
     "text": [
      "{'3': 29, '4': 53, '2': 43, '0': 70, '1': 43}\n"
     ]
    }
   ],
   "source": [
    "import csv\n",
    "\n",
    "input_file = 'english_topics_hpv_1.csv'\n",
    "\n",
    "topic_id = [0, 1, 2, 3, 4]\n",
    "count = dict()\n",
    "\n",
    "with open(input_file, mode='r', newline='', encoding='utf-8') as infile:\n",
    "    reader = csv.DictReader(infile)\n",
    "    for row in reader:\n",
    "        value = row['dominant_topic']\n",
    "        if value in count:\n",
    "            count[value] += 1\n",
    "        else:\n",
    "            count[value] = 1\n",
    "\n",
    "print(count)"
   ]
  },
  {
   "cell_type": "code",
   "execution_count": 18,
   "id": "e047bd3b-d856-4a74-a973-913eb393b59e",
   "metadata": {},
   "outputs": [
    {
     "name": "stdout",
     "output_type": "stream",
     "text": [
      "{'3': 60, '2': 92, '1': 138, '4': 47, '0': 61}\n"
     ]
    }
   ],
   "source": [
    "import csv\n",
    "\n",
    "input_file = 'french_topics_hpv_1.csv'\n",
    "\n",
    "topic_id = [0, 1, 2, 3, 4]\n",
    "count = dict()\n",
    "\n",
    "with open(input_file, mode='r', newline='', encoding='utf-8') as infile:\n",
    "    reader = csv.DictReader(infile)\n",
    "    for row in reader:\n",
    "        value = row['dominant_topic']\n",
    "        if value in count:\n",
    "            count[value] += 1\n",
    "        else:\n",
    "            count[value] = 1\n",
    "\n",
    "print(count)"
   ]
  },
  {
   "cell_type": "code",
   "execution_count": null,
   "id": "8195f730-3948-40fd-b88a-4fc57f704f1a",
   "metadata": {},
   "outputs": [],
   "source": []
  }
 ],
 "metadata": {
  "kernelspec": {
   "display_name": "Python 3 (ipykernel)",
   "language": "python",
   "name": "python3"
  },
  "language_info": {
   "codemirror_mode": {
    "name": "ipython",
    "version": 3
   },
   "file_extension": ".py",
   "mimetype": "text/x-python",
   "name": "python",
   "nbconvert_exporter": "python",
   "pygments_lexer": "ipython3",
   "version": "3.12.3"
  }
 },
 "nbformat": 4,
 "nbformat_minor": 5
}
