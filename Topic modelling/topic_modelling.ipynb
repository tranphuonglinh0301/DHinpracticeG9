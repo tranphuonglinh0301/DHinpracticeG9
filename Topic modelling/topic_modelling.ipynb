{
 "cells": [
  {
   "cell_type": "code",
   "execution_count": 1,
   "id": "327fe99d-eb62-45a4-aef1-4873d0be221d",
   "metadata": {},
   "outputs": [],
   "source": [
    "import pandas as pd\n",
    "import re"
   ]
  },
  {
   "cell_type": "code",
   "execution_count": 2,
   "id": "ae50d170-bbdf-47ed-b91b-df6a6f635a4b",
   "metadata": {},
   "outputs": [],
   "source": [
    "data_english = pd.read_csv(\"dataset_en.csv\")\n",
    "data_italian = pd.read_csv(\"dataset_it.csv\")\n",
    "data_french = pd.read_csv(\"dataset_fr.csv\")"
   ]
  },
  {
   "cell_type": "markdown",
   "id": "a92fcfc1-ad0c-4aa1-958f-b7f03b5f45a9",
   "metadata": {},
   "source": [
    "English data"
   ]
  },
  {
   "cell_type": "code",
   "execution_count": 6,
   "id": "45d3f7d5-eedf-4256-8949-857f3364f18e",
   "metadata": {},
   "outputs": [],
   "source": [
    "data_english['char_count'] = data_english['full_text'].apply(lambda x: len(x))\n",
    "data_english['word_count'] = data_english['full_text'].apply(lambda x: len(x.split()))"
   ]
  },
  {
   "cell_type": "code",
   "execution_count": 11,
   "id": "a7903132-ac91-47d3-a8ee-f84e144deba0",
   "metadata": {},
   "outputs": [],
   "source": [
    "%matplotlib inline\n",
    "import matplotlib.pyplot as plt\n",
    "import seaborn as sns\n",
    "sns.set_theme()\n",
    "sns.set(font_scale=.5)"
   ]
  },
  {
   "cell_type": "code",
   "execution_count": 31,
   "id": "4742b800-0d0d-4970-8262-37021df1c9fd",
   "metadata": {},
   "outputs": [
    {
     "data": {
      "image/png": "[encoded data removed]",
      "text/plain": [
       "<Figure size 640x480 with 2 Axes>"
      ]
     },
     "metadata": {},
     "output_type": "display_data"
    }
   ],
   "source": [
    "f, axes = plt.subplots(1, 2)\n",
    "\n",
    "plot1 = sns.histplot(data_english.char_count, binwidth = 30, ax=axes[0]).set(title='Characters distribution accross tweets', xlabel='Number of characters', ylabel='Number of documents')\n",
    "plot2 = sns.histplot(data_english.word_count, binwidth = 10, ax=axes[1]).set(title='Words distribution accross tweets', xlabel='Number of words')\n",
    "axes[1].set_xlim(1,70)\n",
    "axes[0].set_xlim(0,350)\n",
    "plt.show()"
   ]
  },
  {
   "cell_type": "markdown",
   "id": "7a9bcb6c-528b-49cd-92e0-6d6f40180012",
   "metadata": {},
   "source": [
    "The character limit of X's tweet is 280 (for premium is 25000)"
   ]
  },
  {
   "cell_type": "code",
   "execution_count": 35,
   "id": "f6bf285b-3759-49f6-b765-a218f74972d9",
   "metadata": {},
   "outputs": [],
   "source": [
    "#corpus prep\n",
    "#creating a sample to see the transformation before applying to the whole dataset\n",
    "sample = data_english['full_text'].sample(n = 15, random_state = 1)"
   ]
  },
  {
   "cell_type": "code",
   "execution_count": 36,
   "id": "df9902da-fee6-444a-b42b-03f88b95c2a3",
   "metadata": {},
   "outputs": [
    {
     "data": {
      "text/plain": [
       "1198       They support #Agenda2030 \" \"You should read it\n",
       "529     Tried to warn everyone the WEF is speeding up ...\n",
       "1296    ??????????\" OGGI online#12maggio ?? h 14:30 Ro...\n",
       "589     The #globalist #Agenda2030 has been inching in...\n",
       "37      We filed the initial patent applications for t...\n",
       "724     Whoever @ScottAdamsSays thinks he is he's obvi...\n",
       "1266    UN and WEF behind the lgbtq movement EXIT THE ...\n",
       "91      Safe and Effective Vaccine? HPV Vaccine Gardas...\n",
       "1104    Flouride, it's a poison and it does have side ...\n",
       "1397                #NoWEF #NoCommies #WakeUp #Agenda2030\n",
       "1006    Have a listen to what Every Single Government ...\n",
       "1024    The immuno-compromised, over #vaccinated are t...\n",
       "460     #scottmorrison ?? #censorship #Agenda2030 #Vot...\n",
       "979     @PierrePoilievre will bring #Agenda2030 to Can...\n",
       "1074    #Agenda2030 #DoNotComply #Toronto #Ottawa #ldn...\n",
       "Name: full_text, dtype: object"
      ]
     },
     "execution_count": 36,
     "metadata": {},
     "output_type": "execute_result"
    }
   ],
   "source": [
    "sample"
   ]
  },
  {
   "cell_type": "code",
   "execution_count": 39,
   "id": "d1b900d9-a55e-469e-9c79-040bfcc1473e",
   "metadata": {},
   "outputs": [
    {
     "name": "stderr",
     "output_type": "stream",
     "text": [
      "[nltk_data] Downloading package punkt to\n",
      "[nltk_data]     /Users/phuonglinh/nltk_data...\n",
      "[nltk_data]   Package punkt is already up-to-date!\n",
      "[nltk_data] Downloading package stopwords to\n",
      "[nltk_data]     /Users/phuonglinh/nltk_data...\n",
      "[nltk_data]   Package stopwords is already up-to-date!\n",
      "[nltk_data] Downloading package punkt_tab to\n",
      "[nltk_data]     /Users/phuonglinh/nltk_data...\n",
      "[nltk_data]   Unzipping tokenizers/punkt_tab.zip.\n"
     ]
    }
   ],
   "source": [
    "import nltk\n",
    "nltk.download('punkt')\n",
    "nltk.download('stopwords')\n",
    "nltk.download('punkt_tab')\n",
    "from nltk.corpus import stopwords\n",
    "from nltk.tokenize import word_tokenize"
   ]
  },
  {
   "cell_type": "code",
   "execution_count": 40,
   "id": "0bc93937-c43e-4c9f-bc5d-af3ef76606fc",
   "metadata": {},
   "outputs": [],
   "source": [
    "sample_tokenized = sample.apply(lambda x: nltk.word_tokenize(x))"
   ]
  },
  {
   "cell_type": "code",
   "execution_count": 41,
   "id": "70227f2a-8665-46fd-85bb-68b1da13ab53",
   "metadata": {},
   "outputs": [
    {
     "data": {
      "text/plain": [
       "1198    [They, support, #, Agenda2030, ``, ``, You, sh...\n",
       "529     [Tried, to, warn, everyone, the, WEF, is, spee...\n",
       "1296    [?, ?, ?, ?, ?, ?, ?, ?, ?, ?, '', OGGI, onlin...\n",
       "589     [The, #, globalist, #, Agenda2030, has, been, ...\n",
       "37      [We, filed, the, initial, patent, applications...\n",
       "724     [Whoever, @, ScottAdamsSays, thinks, he, is, h...\n",
       "1266    [UN, and, WEF, behind, the, lgbtq, movement, E...\n",
       "91      [Safe, and, Effective, Vaccine, ?, HPV, Vaccin...\n",
       "1104    [Flouride, ,, it, 's, a, poison, and, it, does...\n",
       "1397    [#, NoWEF, #, NoCommies, #, WakeUp, #, Agenda2...\n",
       "1006    [Have, a, listen, to, what, Every, Single, Gov...\n",
       "1024    [The, immuno-compromised, ,, over, #, vaccinat...\n",
       "460     [#, scottmorrison, ?, ?, #, censorship, #, Age...\n",
       "979     [@, PierrePoilievre, will, bring, #, Agenda203...\n",
       "1074    [#, Agenda2030, #, DoNotComply, #, Toronto, #,...\n",
       "Name: full_text, dtype: object"
      ]
     },
     "execution_count": 41,
     "metadata": {},
     "output_type": "execute_result"
    }
   ],
   "source": [
    "sample_tokenized"
   ]
  },
  {
   "cell_type": "code",
   "execution_count": 43,
   "id": "0eeefd07-b7e7-4bce-aa45-2b84a8ce3b68",
   "metadata": {},
   "outputs": [],
   "source": [
    "#apply into the whole document\n",
    "data_english['tokens'] = data_english['full_text'].apply(lambda x: nltk.word_tokenize(x))"
   ]
  },
  {
   "cell_type": "code",
   "execution_count": 49,
   "id": "dbe2ba54-5920-4247-86a5-efdcb9d9f6a5",
   "metadata": {},
   "outputs": [],
   "source": [
    "sample_prep = sample_tokenized.apply(lambda x: [w.lower() for w in x if (w.isalpha() and len(w) > 2 )])"
   ]
  },
  {
   "cell_type": "code",
   "execution_count": 51,
   "id": "88dcbaee-7dc4-4da0-9796-9487f15041bb",
   "metadata": {},
   "outputs": [
    {
     "data": {
      "text/plain": [
       "1198                   [they, support, you, should, read]\n",
       "529     [tried, warn, everyone, the, wef, speeding, th...\n",
       "1296    [oggi, online, room, room, room, room, room, a...\n",
       "589     [the, globalist, has, been, inching, alarming,...\n",
       "37      [filed, the, initial, patent, applications, fo...\n",
       "724     [whoever, scottadamssays, thinks, obviously, j...\n",
       "1266    [and, wef, behind, the, lgbtq, movement, exit,...\n",
       "91      [safe, and, effective, vaccine, hpv, vaccine, ...\n",
       "1104    [flouride, poison, and, does, have, side, effe...\n",
       "1397                           [nowef, nocommies, wakeup]\n",
       "1006    [have, listen, what, every, single, government...\n",
       "1024    [the, over, vaccinated, are, the, target, opin...\n",
       "460          [scottmorrison, censorship, votenoaustralia]\n",
       "979     [pierrepoilievre, will, bring, canadas, doorst...\n",
       "1074               [donotcomply, toronto, ottawa, ldnont]\n",
       "Name: full_text, dtype: object"
      ]
     },
     "execution_count": 51,
     "metadata": {},
     "output_type": "execute_result"
    }
   ],
   "source": [
    "sample_prep"
   ]
  },
  {
   "cell_type": "code",
   "execution_count": 52,
   "id": "8b7e09b9-3f67-47ac-b418-1a1d772f77c6",
   "metadata": {},
   "outputs": [],
   "source": [
    "#only keep tokens that are alpha, more than 3 characters, lowercase everything. \n",
    "data_english['doc_prep'] = data_english['tokens'].apply(lambda x: [w.lower() for w in x if (w.isalpha() and len(w) > 2 )])"
   ]
  },
  {
   "cell_type": "code",
   "execution_count": 53,
   "id": "809bfe10-54aa-4b7b-84ca-9c8f9bb97218",
   "metadata": {},
   "outputs": [],
   "source": [
    "#stopword list\n",
    "from nltk.corpus import stopwords\n",
    "it_stopwords = stopwords.words(\"italian\")\n",
    "en_stopwords = stopwords.words(\"english\")\n",
    "fr_stopwords = stopwords.words(\"french\")"
   ]
  },
  {
   "cell_type": "code",
   "execution_count": 54,
   "id": "7a8c9779-79d9-450a-b18c-e53db8bfb429",
   "metadata": {},
   "outputs": [],
   "source": [
    "#apply to sample\n",
    "sample_prep_nostop = sample_prep.apply(lambda x: [w for w in x if not w in en_stopwords])"
   ]
  },
  {
   "cell_type": "code",
   "execution_count": 55,
   "id": "329a3eac-701f-4aea-9636-a83aa8eb01c8",
   "metadata": {},
   "outputs": [
    {
     "data": {
      "text/plain": [
       "1198                                      [support, read]\n",
       "529     [tried, warn, everyone, wef, speeding, france,...\n",
       "1296    [oggi, online, room, room, room, room, room, a...\n",
       "589     [globalist, inching, alarming, space, every, t...\n",
       "37      [filed, initial, patent, applications, gardasi...\n",
       "724     [whoever, scottadamssays, thinks, obviously, a...\n",
       "1266            [wef, behind, lgbtq, movement, exit, wef]\n",
       "91      [safe, effective, vaccine, hpv, vaccine, garda...\n",
       "1104    [flouride, poison, side, effects, flouride, th...\n",
       "1397                           [nowef, nocommies, wakeup]\n",
       "1006    [listen, every, single, government, world, com...\n",
       "1024    [vaccinated, target, opinion, something, speed...\n",
       "460          [scottmorrison, censorship, votenoaustralia]\n",
       "979     [pierrepoilievre, bring, canadas, doorstep, ha...\n",
       "1074               [donotcomply, toronto, ottawa, ldnont]\n",
       "Name: full_text, dtype: object"
      ]
     },
     "execution_count": 55,
     "metadata": {},
     "output_type": "execute_result"
    }
   ],
   "source": [
    "sample_prep_nostop"
   ]
  },
  {
   "cell_type": "code",
   "execution_count": 56,
   "id": "1184a803-f973-4451-a3b5-0f176b587601",
   "metadata": {},
   "outputs": [],
   "source": [
    "data_english['doc_prep_nostop'] = data_english['doc_prep'].apply(lambda x: [w for w in x if not w in en_stopwords])"
   ]
  },
  {
   "cell_type": "code",
   "execution_count": 57,
   "id": "7c64c8f6-4640-4e3b-832f-fafcef7e8f16",
   "metadata": {},
   "outputs": [],
   "source": [
    "#export preprocessing data\n",
    "data_english.to_csv(\"tm_preprocessed_english.csv\")"
   ]
  },
  {
   "cell_type": "code",
   "execution_count": 61,
   "id": "737facae-bcc5-48f5-b3a9-8bdfaf7cdba4",
   "metadata": {},
   "outputs": [],
   "source": [
    "#lemmatization\n",
    "import spacy\n",
    "en_nlp = spacy.load(\"en_core_web_sm\",disable=[ 'parser', 'ner'])"
   ]
  },
  {
   "cell_type": "code",
   "execution_count": 62,
   "id": "2bf95573-4142-4685-a89b-03b9be2f44ac",
   "metadata": {},
   "outputs": [],
   "source": [
    "def lemmatize(doc):\n",
    "    lemmatized_doc = []\n",
    "    for w in list(en_nlp.pipe(doc)):\n",
    "        lemmatized_doc.append(\" \".join(token.lemma_ for token in w))\n",
    "    return lemmatized_doc"
   ]
  },
  {
   "cell_type": "code",
   "execution_count": 63,
   "id": "f2462218-283b-46e7-bfbe-d3e5991f85a2",
   "metadata": {},
   "outputs": [],
   "source": [
    "#lemmatization as a token list\n",
    "sample_preprocessing = data_english['doc_prep_nostop'].sample(n = 15, random_state = 1)\n",
    "lemmatized_sample = sample_preprocessing.apply(lambda x: lemmatize(x))"
   ]
  },
  {
   "cell_type": "code",
   "execution_count": 64,
   "id": "d30776e5-18fe-4c09-994b-c5bf55da8524",
   "metadata": {},
   "outputs": [
    {
     "data": {
      "text/plain": [
       "1198                                      [support, read]\n",
       "529     [try, warn, everyone, wef, speed, france, situ...\n",
       "1296    [oggi, online, room, room, room, room, room, a...\n",
       "589     [globalist, inch, alarm, space, every, time, d...\n",
       "37      [file, initial, patent, application, gardasil,...\n",
       "724     [whoever, scottadamssay, think, obviously, ano...\n",
       "1266            [wef, behind, lgbtq, movement, exit, wef]\n",
       "91      [safe, effective, vaccine, hpv, vaccine, garda...\n",
       "1104    [flouride, poison, side, effect, flouride, the...\n",
       "1397                            [nowef, nocommie, wakeup]\n",
       "1006    [listen, every, single, government, world, com...\n",
       "1024    [vaccinate, target, opinion, something, speed,...\n",
       "460          [scottmorrison, censorship, votenoaustralia]\n",
       "979     [pierrepoilievre, bring, canada, doorstep, har...\n",
       "1074               [donotcomply, toronto, ottawa, ldnont]\n",
       "Name: doc_prep_nostop, dtype: object"
      ]
     },
     "execution_count": 64,
     "metadata": {},
     "output_type": "execute_result"
    }
   ],
   "source": [
    "lemmatized_sample"
   ]
  },
  {
   "cell_type": "code",
   "execution_count": 65,
   "id": "017ef654-ed24-448c-8590-1498d185839f",
   "metadata": {},
   "outputs": [],
   "source": [
    "#apply\n",
    "data_english[\"doc_lemmatized\"] = data_english['doc_prep_nostop'].apply(lambda x: lemmatize(x))"
   ]
  },
  {
   "cell_type": "code",
   "execution_count": 66,
   "id": "ac9f34e3-b6eb-4e48-b245-afe2b076efe3",
   "metadata": {},
   "outputs": [
    {
     "data": {
      "text/plain": [
       "0       [learn, gardasil, hpv, vaccine, multidistrict,...\n",
       "1       [hpv, adverseevent, vaccination, gardasil, merck]\n",
       "2       [live, gardasil, give, child, boy, girl, prote...\n",
       "3                         [hpv, gardasil, merck, vaccini]\n",
       "4       [owen, political, commentator, talk, show, hos...\n",
       "                              ...                        \n",
       "1443    [netherland, school, insect, mealworm, menu, i...\n",
       "1444    [takeover, world, impose, totalitarian, rule, ...\n",
       "1445    [lib, break, many, rule, slowly, year, change,...\n",
       "1446    [sie, sind, einer, aufgesessen, wird, nicht, m...\n",
       "1447    [listo, plan, las, ciudade, para, causa, del, ...\n",
       "Name: doc_lemmatized, Length: 1448, dtype: object"
      ]
     },
     "execution_count": 66,
     "metadata": {},
     "output_type": "execute_result"
    }
   ],
   "source": [
    "data_english['doc_lemmatized']"
   ]
  },
  {
   "cell_type": "code",
   "execution_count": 70,
   "id": "7635a36d-de91-494f-a2b7-40f1e418ce43",
   "metadata": {},
   "outputs": [],
   "source": [
    "corpus_model = data_english['doc_lemmatized']"
   ]
  },
  {
   "cell_type": "code",
   "execution_count": 93,
   "id": "2e687e98-e888-40b7-a59a-7f4c001de9fd",
   "metadata": {},
   "outputs": [
    {
     "data": {
      "text/plain": [
       "[('wef', 336),\n",
       " ('gardasil', 288),\n",
       " ('climatescam', 185),\n",
       " ('vaccine', 161),\n",
       " ('hpv', 152),\n",
       " ('nwo', 140),\n",
       " ('greatreset', 135),\n",
       " ('people', 104),\n",
       " ('world', 99),\n",
       " ('newworldorder', 90)]"
      ]
     },
     "execution_count": 93,
     "metadata": {},
     "output_type": "execute_result"
    }
   ],
   "source": [
    "#create dictionary\n",
    "from gensim.test.utils import common_corpus, common_dictionary\n",
    "from gensim import corpora, models\n",
    "id2word = corpora.Dictionary(corpus_model)\n",
    "#filter out words that are not frequently used\n",
    "id2word.filter_extremes(no_below=5)\n",
    "common = id2word.most_common(10)\n",
    "common"
   ]
  },
  {
   "cell_type": "code",
   "execution_count": 100,
   "id": "b6a85e9c-8ad9-49b4-9498-d4a71598a84c",
   "metadata": {},
   "outputs": [],
   "source": [
    "#plot\n",
    "words = []\n",
    "numbers = []\n",
    "for c in common:\n",
    "    w = c[0]\n",
    "    words.append(w)\n",
    "    \n",
    "    n = c[1]\n",
    "    numbers.append(n)"
   ]
  },
  {
   "cell_type": "code",
   "execution_count": 101,
   "id": "b49f233a-9718-429b-8ca7-598946065689",
   "metadata": {},
   "outputs": [
    {
     "data": {
      "image/png": "[encoded data removed]",
      "text/plain": [
       "<Figure size 640x480 with 1 Axes>"
      ]
     },
     "metadata": {},
     "output_type": "display_data"
    }
   ],
   "source": [
    "sns.barplot(x = words, y = numbers)\n",
    "plt.show()"
   ]
  },
  {
   "cell_type": "code",
   "execution_count": 102,
   "id": "4a009e02-acee-4c31-a90f-91938415aaad",
   "metadata": {},
   "outputs": [],
   "source": [
    "#bag of words\n",
    "corpus = [id2word.doc2bow(text) for text in corpus_model]"
   ]
  },
  {
   "cell_type": "code",
   "execution_count": 105,
   "id": "5b4417a5-ddf3-4f7a-9503-672e7b6f885a",
   "metadata": {},
   "outputs": [],
   "source": [
    "#Train computer and compute coherence\n",
    "import gensim"
   ]
  },
  {
   "cell_type": "code",
   "execution_count": 134,
   "id": "f624ce08-4e00-4a99-8029-febdba428550",
   "metadata": {},
   "outputs": [],
   "source": [
    "#high accuracy\n",
    "num_topics = 10\n",
    "model = gensim.models.ldamulticore.LdaMulticore(corpus, \n",
    "                                                id2word=id2word, \n",
    "                                                num_topics=num_topics, \n",
    "                                                chunksize=2000, \n",
    "                                                iterations = 400, \n",
    "                                                passes = 20, \n",
    "                                                eval_every = None)"
   ]
  },
  {
   "cell_type": "code",
   "execution_count": 135,
   "id": "bdd02c8f-59fb-4c5a-8f87-43c6eb2a2990",
   "metadata": {},
   "outputs": [
    {
     "data": {
      "text/html": [
       "<div>\n",
       "<style scoped>\n",
       "    .dataframe tbody tr th:only-of-type {\n",
       "        vertical-align: middle;\n",
       "    }\n",
       "\n",
       "    .dataframe tbody tr th {\n",
       "        vertical-align: top;\n",
       "    }\n",
       "\n",
       "    .dataframe thead th {\n",
       "        text-align: right;\n",
       "    }\n",
       "</style>\n",
       "<table border=\"1\" class=\"dataframe\">\n",
       "  <thead>\n",
       "    <tr style=\"text-align: right;\">\n",
       "      <th></th>\n",
       "      <th>topic_id</th>\n",
       "      <th>words</th>\n",
       "    </tr>\n",
       "  </thead>\n",
       "  <tbody>\n",
       "    <tr>\n",
       "      <th>0</th>\n",
       "      <td>0</td>\n",
       "      <td>0.100*\"gardasil\" + 0.072*\"vaccine\" + 0.066*\"hp...</td>\n",
       "    </tr>\n",
       "    <tr>\n",
       "      <th>1</th>\n",
       "      <td>1</td>\n",
       "      <td>0.022*\"climate\" + 0.019*\"wef\" + 0.019*\"push\" +...</td>\n",
       "    </tr>\n",
       "    <tr>\n",
       "      <th>2</th>\n",
       "      <td>2</td>\n",
       "      <td>0.077*\"wef\" + 0.055*\"nwo\" + 0.042*\"climatescam...</td>\n",
       "    </tr>\n",
       "    <tr>\n",
       "      <th>3</th>\n",
       "      <td>3</td>\n",
       "      <td>0.032*\"climatescam\" + 0.030*\"wef\" + 0.024*\"wor...</td>\n",
       "    </tr>\n",
       "    <tr>\n",
       "      <th>4</th>\n",
       "      <td>4</td>\n",
       "      <td>0.119*\"gardasil\" + 0.052*\"hpv\" + 0.045*\"vaccin...</td>\n",
       "    </tr>\n",
       "    <tr>\n",
       "      <th>5</th>\n",
       "      <td>5</td>\n",
       "      <td>0.043*\"cbdc\" + 0.022*\"digital\" + 0.019*\"wef\" +...</td>\n",
       "    </tr>\n",
       "    <tr>\n",
       "      <th>6</th>\n",
       "      <td>6</td>\n",
       "      <td>0.025*\"wef\" + 0.023*\"plan\" + 0.020*\"like\" + 0....</td>\n",
       "    </tr>\n",
       "    <tr>\n",
       "      <th>7</th>\n",
       "      <td>7</td>\n",
       "      <td>0.030*\"wef\" + 0.025*\"room\" + 0.021*\"need\" + 0....</td>\n",
       "    </tr>\n",
       "    <tr>\n",
       "      <th>8</th>\n",
       "      <td>8</td>\n",
       "      <td>0.024*\"wef\" + 0.021*\"take\" + 0.020*\"people\" + ...</td>\n",
       "    </tr>\n",
       "    <tr>\n",
       "      <th>9</th>\n",
       "      <td>9</td>\n",
       "      <td>0.032*\"agenda\" + 0.019*\"world\" + 0.019*\"one\" +...</td>\n",
       "    </tr>\n",
       "  </tbody>\n",
       "</table>\n",
       "</div>"
      ],
      "text/plain": [
       "   topic_id                                              words\n",
       "0         0  0.100*\"gardasil\" + 0.072*\"vaccine\" + 0.066*\"hp...\n",
       "1         1  0.022*\"climate\" + 0.019*\"wef\" + 0.019*\"push\" +...\n",
       "2         2  0.077*\"wef\" + 0.055*\"nwo\" + 0.042*\"climatescam...\n",
       "3         3  0.032*\"climatescam\" + 0.030*\"wef\" + 0.024*\"wor...\n",
       "4         4  0.119*\"gardasil\" + 0.052*\"hpv\" + 0.045*\"vaccin...\n",
       "5         5  0.043*\"cbdc\" + 0.022*\"digital\" + 0.019*\"wef\" +...\n",
       "6         6  0.025*\"wef\" + 0.023*\"plan\" + 0.020*\"like\" + 0....\n",
       "7         7  0.030*\"wef\" + 0.025*\"room\" + 0.021*\"need\" + 0....\n",
       "8         8  0.024*\"wef\" + 0.021*\"take\" + 0.020*\"people\" + ...\n",
       "9         9  0.032*\"agenda\" + 0.019*\"world\" + 0.019*\"one\" +..."
      ]
     },
     "execution_count": 135,
     "metadata": {},
     "output_type": "execute_result"
    }
   ],
   "source": [
    "topic_print_model = model.print_topics(num_words=30)\n",
    "df_topic_print_model = pd.DataFrame(topic_print_model, columns=['topic_id','words'])\n",
    "df_topic_print_model"
   ]
  },
  {
   "cell_type": "code",
   "execution_count": null,
   "id": "4caf0d4d-da39-44a2-96af-728156bd60d4",
   "metadata": {},
   "outputs": [],
   "source": []
  },
  {
   "cell_type": "code",
   "execution_count": null,
   "id": "6c68e8b2-2b76-4454-8b5b-631c94e968ab",
   "metadata": {},
   "outputs": [],
   "source": []
  },
  {
   "cell_type": "code",
   "execution_count": null,
   "id": "445bf92e-6260-4bf1-b2c7-cc302a33303c",
   "metadata": {},
   "outputs": [],
   "source": []
  },
  {
   "cell_type": "code",
   "execution_count": 136,
   "id": "f1d40ada-514d-4037-bb58-4f27125b7def",
   "metadata": {},
   "outputs": [
    {
     "name": "stdout",
     "output_type": "stream",
     "text": [
      "\n",
      "Coherence Score:  0.36290833423836416\n"
     ]
    }
   ],
   "source": [
    "from gensim.models import CoherenceModel\n",
    "\n",
    "coherence_model_lda = CoherenceModel(model=model, texts=data_english['doc_lemmatized'], dictionary=id2word, coherence='c_v')\n",
    "coherence_lda = coherence_model_lda.get_coherence()\n",
    "print('\\nCoherence Score: ', coherence_lda)"
   ]
  },
  {
   "cell_type": "code",
   "execution_count": 137,
   "id": "7093e76f-9358-4be1-ac61-26f68212be04",
   "metadata": {},
   "outputs": [],
   "source": [
    "df_topic_print_model.to_csv(\"topicmodelling_english.csv\")"
   ]
  },
  {
   "cell_type": "markdown",
   "id": "efd19f48-5514-4b21-b097-b6f885bffced",
   "metadata": {},
   "source": [
    "Italian data"
   ]
  },
  {
   "cell_type": "code",
   "execution_count": 141,
   "id": "0f6e6484-c266-4f96-ad5b-47732eebb1b7",
   "metadata": {},
   "outputs": [],
   "source": [
    "data_italian['char_count'] = data_italian['full_text'].apply(lambda x: len(x))\n",
    "data_italian[\"word_count\"] = data_italian['full_text'].apply(lambda x: len(x.split()))"
   ]
  },
  {
   "cell_type": "code",
   "execution_count": 142,
   "id": "17227cc8-0309-4d0b-a877-c3e7fb96f837",
   "metadata": {},
   "outputs": [
    {
     "data": {
      "image/png": "[encoded data removed]",
      "text/plain": [
       "<Figure size 640x480 with 2 Axes>"
      ]
     },
     "metadata": {},
     "output_type": "display_data"
    }
   ],
   "source": [
    "f, axes = plt.subplots(1, 2)\n",
    "\n",
    "plot1 = sns.histplot(data_italian.char_count, binwidth = 30, ax=axes[0]).set(title='Characters distribution accross tweets', xlabel='Number of characters', ylabel='Number of documents')\n",
    "plot2 = sns.histplot(data_italian.word_count, binwidth = 10, ax=axes[1]).set(title='Words distribution accross tweets', xlabel='Number of words')\n",
    "axes[1].set_xlim(1,70)\n",
    "axes[0].set_xlim(0,350)\n",
    "plt.show()"
   ]
  },
  {
   "cell_type": "code",
   "execution_count": 143,
   "id": "d35e5698-71a3-4410-8637-a526e1ada519",
   "metadata": {},
   "outputs": [],
   "source": [
    "#tokenize\n",
    "data_italian['tokens'] = data_italian['full_text'].apply(lambda x: nltk.word_tokenize(x))"
   ]
  },
  {
   "cell_type": "code",
   "execution_count": 144,
   "id": "c1cd919a-622c-4756-946f-8e7cd2f86c3a",
   "metadata": {},
   "outputs": [],
   "source": [
    "data_italian['doc_prep'] = data_italian['tokens'].apply(lambda x: [w.lower() for w in x if w.isalpha() and len(w) > 2])"
   ]
  },
  {
   "cell_type": "code",
   "execution_count": 147,
   "id": "60351f44-ee76-44cf-83fc-ecb760755223",
   "metadata": {},
   "outputs": [],
   "source": [
    "data_italian['doc_prep_nostop'] = data_italian['doc_prep'].apply(lambda x: [w for w in x if not w in it_stopwords])"
   ]
  },
  {
   "cell_type": "code",
   "execution_count": 149,
   "id": "4552516d-2eac-47ac-a5e5-e03c159dc4e6",
   "metadata": {},
   "outputs": [],
   "source": [
    "it_nlp = spacy.load(\"it_core_news_sm\", disable = ['parser','ner'])\n",
    "def lemmatize(doc):\n",
    "    lemmatized_doc = []\n",
    "    for w in list(it_nlp.pipe(doc)):\n",
    "        lemmatized_doc.append(\" \".join(token.lemma_ for token in w))\n",
    "    return lemmatized_doc\n",
    "data_italian['lemmatize'] = data_italian['doc_prep_nostop'].apply(lambda x: lemmatize(x))"
   ]
  },
  {
   "cell_type": "code",
   "execution_count": 151,
   "id": "7db56267-fead-4d09-b134-3679b2930652",
   "metadata": {},
   "outputs": [
    {
     "data": {
      "text/plain": [
       "[('gardasil', 78),\n",
       " ('giorgiamelone', 14),\n",
       " ('belpietrotweet', 12),\n",
       " ('franborgonovare', 12),\n",
       " ('ivreich', 12),\n",
       " ('ladyonorare', 12),\n",
       " ('laveritaweb', 12),\n",
       " ('madforfrea', 12),\n",
       " ('matteosalvinimo', 12),\n",
       " ('rusembitaly', 12)]"
      ]
     },
     "execution_count": 151,
     "metadata": {},
     "output_type": "execute_result"
    }
   ],
   "source": [
    "corpus_model = data_italian['lemmatize']\n",
    "id2word = corpora.Dictionary(corpus_model)\n",
    "id2word.filter_extremes(no_below = 5)\n",
    "common = id2word.most_common(10)\n",
    "common"
   ]
  },
  {
   "cell_type": "code",
   "execution_count": 152,
   "id": "229d53cb-70da-4fbb-bed8-769f58f1745a",
   "metadata": {},
   "outputs": [
    {
     "data": {
      "image/png": "[encoded data removed]",
      "text/plain": [
       "<Figure size 640x480 with 1 Axes>"
      ]
     },
     "metadata": {},
     "output_type": "display_data"
    }
   ],
   "source": [
    "#plot\n",
    "words = []\n",
    "numbers = []\n",
    "for c in common:\n",
    "    w = c[0]\n",
    "    words.append(w)\n",
    "    \n",
    "    n = c[1]\n",
    "    numbers.append(n)\n",
    "sns.barplot(x = words, y = numbers)\n",
    "plt.show()"
   ]
  },
  {
   "cell_type": "code",
   "execution_count": 153,
   "id": "d31b12ab-1134-4f54-b394-6e7c14d54fc5",
   "metadata": {},
   "outputs": [
    {
     "data": {
      "text/html": [
       "<div>\n",
       "<style scoped>\n",
       "    .dataframe tbody tr th:only-of-type {\n",
       "        vertical-align: middle;\n",
       "    }\n",
       "\n",
       "    .dataframe tbody tr th {\n",
       "        vertical-align: top;\n",
       "    }\n",
       "\n",
       "    .dataframe thead th {\n",
       "        text-align: right;\n",
       "    }\n",
       "</style>\n",
       "<table border=\"1\" class=\"dataframe\">\n",
       "  <thead>\n",
       "    <tr style=\"text-align: right;\">\n",
       "      <th></th>\n",
       "      <th>topic_id</th>\n",
       "      <th>words</th>\n",
       "    </tr>\n",
       "  </thead>\n",
       "  <tbody>\n",
       "    <tr>\n",
       "      <th>0</th>\n",
       "      <td>0</td>\n",
       "      <td>0.262*\"globalista\" + 0.024*\"usare\" + 0.024*\"en...</td>\n",
       "    </tr>\n",
       "    <tr>\n",
       "      <th>1</th>\n",
       "      <td>1</td>\n",
       "      <td>0.741*\"gardasil\" + 0.145*\"associationpec\" + 0....</td>\n",
       "    </tr>\n",
       "    <tr>\n",
       "      <th>2</th>\n",
       "      <td>2</td>\n",
       "      <td>0.156*\"energia\" + 0.139*\"energytransition\" + 0...</td>\n",
       "    </tr>\n",
       "    <tr>\n",
       "      <th>3</th>\n",
       "      <td>3</td>\n",
       "      <td>0.554*\"Italia\" + 0.120*\"energia\" + 0.011*\"fare...</td>\n",
       "    </tr>\n",
       "    <tr>\n",
       "      <th>4</th>\n",
       "      <td>4</td>\n",
       "      <td>0.212*\"wef\" + 0.212*\"usare\" + 0.134*\"essere\" +...</td>\n",
       "    </tr>\n",
       "    <tr>\n",
       "      <th>5</th>\n",
       "      <td>5</td>\n",
       "      <td>0.099*\"belpietrotweet\" + 0.099*\"rusembitaly\" +...</td>\n",
       "    </tr>\n",
       "    <tr>\n",
       "      <th>6</th>\n",
       "      <td>6</td>\n",
       "      <td>0.569*\"gardasil\" + 0.303*\"poizon\" + 0.004*\"usa...</td>\n",
       "    </tr>\n",
       "    <tr>\n",
       "      <th>7</th>\n",
       "      <td>7</td>\n",
       "      <td>0.347*\"gardasil\" + 0.237*\"vaccination\" + 0.211...</td>\n",
       "    </tr>\n",
       "    <tr>\n",
       "      <th>8</th>\n",
       "      <td>8</td>\n",
       "      <td>0.404*\"giorgiamelone\" + 0.019*\"associationpec\"...</td>\n",
       "    </tr>\n",
       "    <tr>\n",
       "      <th>9</th>\n",
       "      <td>9</td>\n",
       "      <td>0.553*\"son\" + 0.120*\"wef\" + 0.012*\"gardasil\" +...</td>\n",
       "    </tr>\n",
       "  </tbody>\n",
       "</table>\n",
       "</div>"
      ],
      "text/plain": [
       "   topic_id                                              words\n",
       "0         0  0.262*\"globalista\" + 0.024*\"usare\" + 0.024*\"en...\n",
       "1         1  0.741*\"gardasil\" + 0.145*\"associationpec\" + 0....\n",
       "2         2  0.156*\"energia\" + 0.139*\"energytransition\" + 0...\n",
       "3         3  0.554*\"Italia\" + 0.120*\"energia\" + 0.011*\"fare...\n",
       "4         4  0.212*\"wef\" + 0.212*\"usare\" + 0.134*\"essere\" +...\n",
       "5         5  0.099*\"belpietrotweet\" + 0.099*\"rusembitaly\" +...\n",
       "6         6  0.569*\"gardasil\" + 0.303*\"poizon\" + 0.004*\"usa...\n",
       "7         7  0.347*\"gardasil\" + 0.237*\"vaccination\" + 0.211...\n",
       "8         8  0.404*\"giorgiamelone\" + 0.019*\"associationpec\"...\n",
       "9         9  0.553*\"son\" + 0.120*\"wef\" + 0.012*\"gardasil\" +..."
      ]
     },
     "execution_count": 153,
     "metadata": {},
     "output_type": "execute_result"
    }
   ],
   "source": [
    "corpus = [id2word.doc2bow(text) for text in corpus_model]\n",
    "num_topics = 10\n",
    "model = gensim.models.ldamulticore.LdaMulticore(corpus, \n",
    "                                                id2word=id2word, \n",
    "                                                num_topics=num_topics, \n",
    "                                                chunksize=2000, \n",
    "                                                iterations = 400, \n",
    "                                                passes = 20, \n",
    "                                                eval_every = None)\n",
    "topic_print_model = model.print_topics(num_words=30)\n",
    "df_topic_print_model = pd.DataFrame(topic_print_model, columns=['topic_id','words'])\n",
    "df_topic_print_model"
   ]
  },
  {
   "cell_type": "code",
   "execution_count": 155,
   "id": "1266020c-74fc-4c49-b478-a0b92a92b7c0",
   "metadata": {},
   "outputs": [
    {
     "name": "stdout",
     "output_type": "stream",
     "text": [
      "\n",
      "Coherence Score:  0.516356112549712\n"
     ]
    }
   ],
   "source": [
    "coherence_model_lda = CoherenceModel(model=model, texts=data_italian['lemmatize'], dictionary=id2word, coherence='c_v')\n",
    "coherence_lda = coherence_model_lda.get_coherence()\n",
    "print('\\nCoherence Score: ', coherence_lda)"
   ]
  },
  {
   "cell_type": "code",
   "execution_count": 156,
   "id": "394b369d-e6cd-4941-a3ac-8bcdcd19a1ef",
   "metadata": {},
   "outputs": [],
   "source": [
    "df_topic_print_model.to_csv(\"topicmodelling_italian.csv\")"
   ]
  },
  {
   "cell_type": "markdown",
   "id": "bc03565e-2b1b-417c-b07d-4dd8bb774037",
   "metadata": {},
   "source": [
    "French dataset"
   ]
  },
  {
   "cell_type": "code",
   "execution_count": 157,
   "id": "49d0286a-981a-43bc-a253-fe44f74a3f77",
   "metadata": {},
   "outputs": [],
   "source": [
    "data_french['char_count'] = data_french['full_text'].apply(lambda x: len(x))\n",
    "data_french[\"word_count\"] = data_french['full_text'].apply(lambda x: len(x.split()))"
   ]
  },
  {
   "cell_type": "code",
   "execution_count": 158,
   "id": "fcadddf2-d18e-4cc9-803e-a24c7f93f603",
   "metadata": {},
   "outputs": [
    {
     "data": {
      "image/png": "[encoded data removed]",
      "text/plain": [
       "<Figure size 640x480 with 2 Axes>"
      ]
     },
     "metadata": {},
     "output_type": "display_data"
    }
   ],
   "source": [
    "f, axes = plt.subplots(1, 2)\n",
    "\n",
    "plot1 = sns.histplot(data_french.char_count, binwidth = 30, ax=axes[0]).set(title='Characters distribution accross tweets', xlabel='Number of characters', ylabel='Number of documents')\n",
    "plot2 = sns.histplot(data_french.word_count, binwidth = 10, ax=axes[1]).set(title='Words distribution accross tweets', xlabel='Number of words')\n",
    "axes[1].set_xlim(1,70)\n",
    "axes[0].set_xlim(0,350)\n",
    "plt.show()"
   ]
  },
  {
   "cell_type": "code",
   "execution_count": 163,
   "id": "f1aa2bbe-9759-4129-b378-1f476febd6ad",
   "metadata": {},
   "outputs": [],
   "source": [
    "data_french['tokens'] = data_french['full_text'].apply(lambda x: nltk.word_tokenize(x))\n",
    "data_french['doc_prep'] = data_french['tokens'].apply(lambda x: [w.lower() for w in x if w.isalpha() and len(w) > 2])\n",
    "data_french['doc_prep_nostop'] = data_french['doc_prep'].apply(lambda x: [w for w in x if not w in fr_stopwords])"
   ]
  },
  {
   "cell_type": "code",
   "execution_count": 164,
   "id": "851e1bb7-db40-4683-9521-4f88c915746c",
   "metadata": {},
   "outputs": [],
   "source": [
    "fr_nlp = spacy.load(\"fr_core_news_sm\", disable = ['parser','ner'])\n",
    "def lemmatize(doc):\n",
    "    lemmatized_doc = []\n",
    "    for w in list(fr_nlp.pipe(doc)):\n",
    "        lemmatized_doc.append(\" \".join(token.lemma_ for token in w))\n",
    "    return lemmatized_doc\n",
    "data_french['lemmatize'] = data_french['doc_prep_nostop'].apply(lambda x: lemmatize(x))"
   ]
  },
  {
   "cell_type": "code",
   "execution_count": 165,
   "id": "5960d72f-728d-4839-aade-03d4d347830f",
   "metadata": {},
   "outputs": [
    {
     "data": {
      "text/plain": [
       "[('vaccin', 156),\n",
       " ('papillomavirus', 103),\n",
       " ('contre', 88),\n",
       " ('vaccination', 70),\n",
       " ('effet', 70),\n",
       " ('secondaire', 67),\n",
       " ('macron', 66),\n",
       " ('enfant', 64),\n",
       " ('faire', 61),\n",
       " ('tout', 52)]"
      ]
     },
     "execution_count": 165,
     "metadata": {},
     "output_type": "execute_result"
    }
   ],
   "source": [
    "corpus_model = data_french['lemmatize']\n",
    "id2word = corpora.Dictionary(corpus_model)\n",
    "id2word.filter_extremes(no_below = 5)\n",
    "common = id2word.most_common(10)\n",
    "common"
   ]
  },
  {
   "cell_type": "code",
   "execution_count": 166,
   "id": "e6d2b789-4cbe-4119-9e11-094d87f339b6",
   "metadata": {},
   "outputs": [
    {
     "data": {
      "image/png": "[encoded data removed]",
      "text/plain": [
       "<Figure size 640x480 with 1 Axes>"
      ]
     },
     "metadata": {},
     "output_type": "display_data"
    }
   ],
   "source": [
    "#plot\n",
    "words = []\n",
    "numbers = []\n",
    "for c in common:\n",
    "    w = c[0]\n",
    "    words.append(w)\n",
    "    \n",
    "    n = c[1]\n",
    "    numbers.append(n)\n",
    "sns.barplot(x = words, y = numbers)\n",
    "plt.show()"
   ]
  },
  {
   "cell_type": "code",
   "execution_count": 167,
   "id": "006757ed-4520-4afb-a4cb-5cf6bbf31f4a",
   "metadata": {},
   "outputs": [
    {
     "data": {
      "text/html": [
       "<div>\n",
       "<style scoped>\n",
       "    .dataframe tbody tr th:only-of-type {\n",
       "        vertical-align: middle;\n",
       "    }\n",
       "\n",
       "    .dataframe tbody tr th {\n",
       "        vertical-align: top;\n",
       "    }\n",
       "\n",
       "    .dataframe thead th {\n",
       "        text-align: right;\n",
       "    }\n",
       "</style>\n",
       "<table border=\"1\" class=\"dataframe\">\n",
       "  <thead>\n",
       "    <tr style=\"text-align: right;\">\n",
       "      <th></th>\n",
       "      <th>topic_id</th>\n",
       "      <th>words</th>\n",
       "    </tr>\n",
       "  </thead>\n",
       "  <tbody>\n",
       "    <tr>\n",
       "      <th>0</th>\n",
       "      <td>0</td>\n",
       "      <td>0.060*\"vaccin\" + 0.040*\"contre\" + 0.038*\"cance...</td>\n",
       "    </tr>\n",
       "    <tr>\n",
       "      <th>1</th>\n",
       "      <td>1</td>\n",
       "      <td>0.076*\"papillomavirus\" + 0.066*\"vaccin\" + 0.06...</td>\n",
       "    </tr>\n",
       "    <tr>\n",
       "      <th>2</th>\n",
       "      <td>2</td>\n",
       "      <td>0.082*\"faire\" + 0.047*\"tout\" + 0.035*\"comme\" +...</td>\n",
       "    </tr>\n",
       "    <tr>\n",
       "      <th>3</th>\n",
       "      <td>3</td>\n",
       "      <td>0.072*\"enfant\" + 0.041*\"santè\" + 0.034*\"effets...</td>\n",
       "    </tr>\n",
       "    <tr>\n",
       "      <th>4</th>\n",
       "      <td>4</td>\n",
       "      <td>0.040*\"odd\" + 0.040*\"vouloir\" + 0.035*\"plan\" +...</td>\n",
       "    </tr>\n",
       "    <tr>\n",
       "      <th>5</th>\n",
       "      <td>5</td>\n",
       "      <td>0.076*\"nouveau\" + 0.063*\"vaccin\" + 0.057*\"inef...</td>\n",
       "    </tr>\n",
       "    <tr>\n",
       "      <th>6</th>\n",
       "      <td>6</td>\n",
       "      <td>0.050*\"france\" + 0.046*\"macron\" + 0.041*\"fallo...</td>\n",
       "    </tr>\n",
       "    <tr>\n",
       "      <th>7</th>\n",
       "      <td>7</td>\n",
       "      <td>0.093*\"merck\" + 0.048*\"dire\" + 0.035*\"faire\" +...</td>\n",
       "    </tr>\n",
       "    <tr>\n",
       "      <th>8</th>\n",
       "      <td>8</td>\n",
       "      <td>0.119*\"effet\" + 0.115*\"secondaire\" + 0.090*\"gr...</td>\n",
       "    </tr>\n",
       "    <tr>\n",
       "      <th>9</th>\n",
       "      <td>9</td>\n",
       "      <td>0.068*\"míme\" + 0.066*\"vaccin\" + 0.054*\"procë\" ...</td>\n",
       "    </tr>\n",
       "  </tbody>\n",
       "</table>\n",
       "</div>"
      ],
      "text/plain": [
       "   topic_id                                              words\n",
       "0         0  0.060*\"vaccin\" + 0.040*\"contre\" + 0.038*\"cance...\n",
       "1         1  0.076*\"papillomavirus\" + 0.066*\"vaccin\" + 0.06...\n",
       "2         2  0.082*\"faire\" + 0.047*\"tout\" + 0.035*\"comme\" +...\n",
       "3         3  0.072*\"enfant\" + 0.041*\"santè\" + 0.034*\"effets...\n",
       "4         4  0.040*\"odd\" + 0.040*\"vouloir\" + 0.035*\"plan\" +...\n",
       "5         5  0.076*\"nouveau\" + 0.063*\"vaccin\" + 0.057*\"inef...\n",
       "6         6  0.050*\"france\" + 0.046*\"macron\" + 0.041*\"fallo...\n",
       "7         7  0.093*\"merck\" + 0.048*\"dire\" + 0.035*\"faire\" +...\n",
       "8         8  0.119*\"effet\" + 0.115*\"secondaire\" + 0.090*\"gr...\n",
       "9         9  0.068*\"míme\" + 0.066*\"vaccin\" + 0.054*\"procë\" ..."
      ]
     },
     "execution_count": 167,
     "metadata": {},
     "output_type": "execute_result"
    }
   ],
   "source": [
    "corpus = [id2word.doc2bow(text) for text in corpus_model]\n",
    "num_topics = 10\n",
    "model = gensim.models.ldamulticore.LdaMulticore(corpus, \n",
    "                                                id2word=id2word, \n",
    "                                                num_topics=num_topics, \n",
    "                                                chunksize=2000, \n",
    "                                                iterations = 400, \n",
    "                                                passes = 20, \n",
    "                                                eval_every = None)\n",
    "topic_print_model = model.print_topics(num_words=30)\n",
    "df_topic_print_model = pd.DataFrame(topic_print_model, columns=['topic_id','words'])\n",
    "df_topic_print_model"
   ]
  },
  {
   "cell_type": "code",
   "execution_count": 169,
   "id": "f1a3ec34-f5c0-4aef-b9bf-f9603c170558",
   "metadata": {},
   "outputs": [
    {
     "name": "stdout",
     "output_type": "stream",
     "text": [
      "\n",
      "Coherence Score:  0.4571340590033851\n"
     ]
    }
   ],
   "source": [
    "coherence_model_lda = CoherenceModel(model=model, texts=data_french['lemmatize'], dictionary=id2word, coherence='c_v')\n",
    "coherence_lda = coherence_model_lda.get_coherence()\n",
    "print('\\nCoherence Score: ', coherence_lda)"
   ]
  },
  {
   "cell_type": "code",
   "execution_count": 170,
   "id": "2150f60a-de18-46b5-9465-251483daf54e",
   "metadata": {},
   "outputs": [],
   "source": [
    "df_topic_print_model.to_csv(\"topicmodelling_french.csv\")"
   ]
  },
  {
   "cell_type": "code",
   "execution_count": null,
   "id": "d23d93d5-cab4-4f83-b650-ba557f09392a",
   "metadata": {},
   "outputs": [],
   "source": []
  }
 ],
 "metadata": {
  "kernelspec": {
   "display_name": "Python 3 (ipykernel)",
   "language": "python",
   "name": "python3"
  },
  "language_info": {
   "codemirror_mode": {
    "name": "ipython",
    "version": 3
   },
   "file_extension": ".py",
   "mimetype": "text/x-python",
   "name": "python",
   "nbconvert_exporter": "python",
   "pygments_lexer": "ipython3",
   "version": "3.12.7"
  }
 },
 "nbformat": 4,
 "nbformat_minor": 5
}
