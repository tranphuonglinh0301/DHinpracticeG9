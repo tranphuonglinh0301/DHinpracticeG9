{
 "cells": [
  {
   "cell_type": "code",
   "execution_count": 60,
   "id": "ad8b0037-3b84-436e-b544-862021a17dd3",
   "metadata": {},
   "outputs": [],
   "source": [
    "import csv\n",
    "\n",
    "input_file = 'dataset_engagement.csv'\n",
    "output_file = 'dataset_en.csv'\n",
    "\n",
    "with open(input_file, mode='r', newline='', encoding='utf-8') as infile, \\\n",
    "     open(output_file, mode='w', newline='', encoding='utf-8') as outfile:\n",
    "    reader = csv.DictReader(infile)\n",
    "    writer = csv.DictWriter(outfile, fieldnames=reader.fieldnames)\n",
    "\n",
    "    # Write header to the output file\n",
    "    writer.writeheader()\n",
    "\n",
    "    # Write rows where the language is 'en'\n",
    "    for row in reader:\n",
    "        if row['language'] == 'en':\n",
    "            writer.writerow(row)\n"
   ]
  },
  {
   "cell_type": "code",
   "execution_count": 99,
   "id": "f17b3154-03c8-48bf-95fb-c44006f93569",
   "metadata": {},
   "outputs": [],
   "source": [
    "import csv\n",
    "\n",
    "input_file = 'dataset_en.csv'\n",
    "output_file = 'dataset_en_hpv.csv'\n",
    "\n",
    "keywords = ['hpv', 'papilloma', 'gardasil', 'cervical'] \n",
    "\n",
    "with open(input_file, mode='r', newline='', encoding='utf-8') as infile, \\\n",
    "     open(output_file, mode='w', newline='', encoding='utf-8') as outfile:\n",
    "    reader = csv.DictReader(infile)\n",
    "    writer = csv.DictWriter(outfile, fieldnames=reader.fieldnames)\n",
    "\n",
    "    # Write header to the output file\n",
    "    writer.writeheader()\n",
    "\n",
    "    # Write rows where the language is 'en'\n",
    "    for row in reader:\n",
    "        if any(text in row['full_text'].lower() for text in keywords):\n",
    "            writer.writerow(row)\n"
   ]
  },
  {
   "cell_type": "code",
   "execution_count": 89,
   "id": "3dab6fd4-16fa-4978-bbf5-4e0c28ed8c1e",
   "metadata": {},
   "outputs": [],
   "source": [
    "import csv\n",
    "\n",
    "input_file = 'dataset_engagement.csv'\n",
    "output_file = 'dataset_fr.csv'\n",
    "\n",
    "with open(input_file, mode='r', newline='', encoding='utf-8') as infile, \\\n",
    "     open(output_file, mode='w', newline='', encoding='utf-8') as outfile:\n",
    "    reader = csv.DictReader(infile)\n",
    "    writer = csv.DictWriter(outfile, fieldnames=reader.fieldnames)\n",
    "\n",
    "    # Write header to the output file\n",
    "    writer.writeheader()\n",
    "\n",
    "    # Write rows where the language is 'en'\n",
    "    for row in reader:\n",
    "        if row['language'] == 'fr':\n",
    "            writer.writerow(row)"
   ]
  },
  {
   "cell_type": "code",
   "execution_count": 101,
   "id": "6908328b-e375-47f3-894a-8e2fca46c786",
   "metadata": {},
   "outputs": [],
   "source": [
    "import csv\n",
    "\n",
    "input_file = 'dataset_fr.csv'\n",
    "output_file = 'dataset_fr_hpv.csv'\n",
    "\n",
    "keywords = ['hpv', 'papilloma', 'gardasil', 'utérus'] \n",
    "\n",
    "with open(input_file, mode='r', newline='', encoding='utf-8') as infile, \\\n",
    "     open(output_file, mode='w', newline='', encoding='utf-8') as outfile:\n",
    "    reader = csv.DictReader(infile)\n",
    "    writer = csv.DictWriter(outfile, fieldnames=reader.fieldnames)\n",
    "\n",
    "    # Write header to the output file\n",
    "    writer.writeheader()\n",
    "\n",
    "    # Write rows where the language is 'en'\n",
    "    for row in reader:\n",
    "        if any(text in row['full_text'].lower() for text in keywords):\n",
    "            writer.writerow(row)\n"
   ]
  },
  {
   "cell_type": "code",
   "execution_count": 93,
   "id": "86f6785d-0f58-4589-9a33-5104f21eb299",
   "metadata": {},
   "outputs": [],
   "source": [
    "import csv\n",
    "\n",
    "input_file = 'dataset_engagement.csv'\n",
    "output_file = 'dataset_it.csv'\n",
    "\n",
    "with open(input_file, mode='r', newline='', encoding='utf-8') as infile, \\\n",
    "     open(output_file, mode='w', newline='', encoding='utf-8') as outfile:\n",
    "    reader = csv.DictReader(infile)\n",
    "    writer = csv.DictWriter(outfile, fieldnames=reader.fieldnames)\n",
    "\n",
    "    # Write header to the output file\n",
    "    writer.writeheader()\n",
    "\n",
    "    # Write rows where the language is 'en'\n",
    "    for row in reader:\n",
    "        if row['language'] == 'it':\n",
    "            writer.writerow(row)\n"
   ]
  },
  {
   "cell_type": "code",
   "execution_count": 104,
   "id": "2e1623b4-725d-4101-9192-7f1a200180ea",
   "metadata": {},
   "outputs": [],
   "source": [
    "import csv\n",
    "\n",
    "input_file = 'dataset_it.csv'\n",
    "output_file = 'dataset_it_hpv.csv'\n",
    "\n",
    "keywords = ['hpv', 'papilloma', 'gardasil', 'cervical'] \n",
    "\n",
    "with open(input_file, mode='r', newline='', encoding='utf-8') as infile, \\\n",
    "     open(output_file, mode='w', newline='', encoding='utf-8') as outfile:\n",
    "    reader = csv.DictReader(infile)\n",
    "    writer = csv.DictWriter(outfile, fieldnames=reader.fieldnames)\n",
    "\n",
    "    # Write header to the output file\n",
    "    writer.writeheader()\n",
    "\n",
    "    # Write rows where the language is 'en'\n",
    "    for row in reader:\n",
    "        if any(text in row['full_text'].lower() for text in keywords):\n",
    "            writer.writerow(row)\n"
   ]
  },
  {
   "cell_type": "code",
   "execution_count": null,
   "id": "d2d2a4ea-62f2-44e2-9116-15b14d61a72b",
   "metadata": {},
   "outputs": [],
   "source": []
  }
 ],
 "metadata": {
  "kernelspec": {
   "display_name": "Python 3 (ipykernel)",
   "language": "python",
   "name": "python3"
  },
  "language_info": {
   "codemirror_mode": {
    "name": "ipython",
    "version": 3
   },
   "file_extension": ".py",
   "mimetype": "text/x-python",
   "name": "python",
   "nbconvert_exporter": "python",
   "pygments_lexer": "ipython3",
   "version": "3.12.3"
  }
 },
 "nbformat": 4,
 "nbformat_minor": 5
}
